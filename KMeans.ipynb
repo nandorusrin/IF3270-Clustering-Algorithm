{
 "cells": [
  {
   "cell_type": "code",
   "execution_count": 23,
   "metadata": {},
   "outputs": [],
   "source": [
    "import matplotlib.pyplot as plt\n",
    "from sklearn import datasets\n",
    "import numpy as np\n",
    "import joblib\n",
    "import random\n"
   ]
  },
  {
   "cell_type": "code",
   "execution_count": 24,
   "metadata": {},
   "outputs": [
    {
     "name": "stdout",
     "output_type": "stream",
     "text": [
      "['setosa' 'versicolor' 'virginica']\n"
     ]
    }
   ],
   "source": [
    "# Iris\n",
    "# iris Features: [Sepal Length, Sepal Width, Petal Length, Petal Width]\n",
    "# iris target: {Setosa, Versicolour, Virginica}\n",
    "iris = datasets.load_iris()\n",
    "iris_X = iris.data\n",
    "iris_y = iris.target\n",
    "print(iris.target_names)\n"
   ]
  },
  {
   "cell_type": "code",
   "execution_count": 25,
   "metadata": {},
   "outputs": [
    {
     "name": "stdout",
     "output_type": "stream",
     "text": [
      "[[0, 1, 2, 3, 4, 5, 6, 7, 8, 9, 10, 11, 12, 13, 14, 15, 16, 17, 18, 19, 20, 21, 22, 23, 24, 25, 26, 27, 28, 29, 30, 31, 32, 33, 34, 35, 36, 37, 38, 39, 40, 41, 42, 43, 44, 45, 46, 47, 48, 49], [51, 53, 54, 55, 56, 57, 58, 59, 60, 61, 62, 63, 64, 65, 66, 67, 68, 69, 70, 71, 72, 73, 74, 75, 76, 78, 79, 80, 81, 82, 83, 84, 85, 86, 87, 88, 89, 90, 91, 92, 93, 94, 95, 96, 97, 98, 99, 101, 106, 113, 114, 119, 121, 123, 126, 127, 133, 138, 142, 146, 149], [50, 52, 77, 100, 102, 103, 104, 105, 107, 108, 109, 110, 111, 112, 115, 116, 117, 118, 120, 122, 124, 125, 128, 129, 130, 131, 132, 134, 135, 136, 137, 139, 140, 141, 143, 144, 145, 147, 148]]\n",
      "[0, 0, 0, 0, 0, 0, 0, 0, 0, 0, 0, 0, 0, 0, 0, 0, 0, 0, 0, 0, 0, 0, 0, 0, 0, 0, 0, 0, 0, 0, 0, 0, 0, 0, 0, 0, 0, 0, 0, 0, 0, 0, 0, 0, 0, 0, 0, 0, 0, 0, 2, 1, 2, 1, 1, 1, 1, 1, 1, 1, 1, 1, 1, 1, 1, 1, 1, 1, 1, 1, 1, 1, 1, 1, 1, 1, 1, 2, 1, 1, 1, 1, 1, 1, 1, 1, 1, 1, 1, 1, 1, 1, 1, 1, 1, 1, 1, 1, 1, 1, 2, 1, 2, 2, 2, 2, 1, 2, 2, 2, 2, 2, 2, 1, 1, 2, 2, 2, 2, 1, 2, 1, 2, 1, 2, 2, 1, 1, 2, 2, 2, 2, 2, 1, 2, 2, 2, 2, 1, 2, 2, 2, 1, 2, 2, 2, 1, 2, 2, 1]\n"
     ]
    }
   ],
   "source": [
    "import math\n",
    "\n",
    "class KMeans:\n",
    "    def __init__(self, n_clusters=1, random_state=-1):\n",
    "        self.n_clusters = n_clusters\n",
    "        self.random_state = random_state\n",
    "    \n",
    "    def euclideanDist(self, x1, x2):\n",
    "        total = 0\n",
    "        for a, b in zip(x1, x2):\n",
    "            total += (a-b) ** 2\n",
    "        return math.sqrt(total)\n",
    "\n",
    "    def computeClusterMean(self, cluster_points):\n",
    "        return np.average(cluster_points, axis=0)\n",
    "\n",
    "    def assignCluster(self, dataset, centroids):\n",
    "        dataset_len = np.size(dataset, axis=0)\n",
    "        centroids_len = np.size(centroids, axis=0)\n",
    "        clusters = [[] for i in range(self.n_clusters)]\n",
    "        \n",
    "        for dIdx in range(dataset_len):\n",
    "            centMinIdx = -1\n",
    "            centDistMin = math.inf\n",
    "            for centIdx in range(centroids_len):\n",
    "                dist = self.euclideanDist(dataset[dIdx], centroids[centIdx])\n",
    "                if dist < centDistMin:\n",
    "                    centMinIdx = centIdx\n",
    "                    centDistMin = dist\n",
    "            clusters[centMinIdx].append(dIdx)\n",
    "    \n",
    "        return clusters\n",
    "    \n",
    "    def fit(self, X):\n",
    "        if self.random_state != -1:\n",
    "            np.random.seed(self.random_state)\n",
    "        \n",
    "        self._X = X\n",
    "\n",
    "        # Get initial centroids\n",
    "        centroids = X[np.random.choice(X.shape[0], self.n_clusters, replace=False)]\n",
    "\n",
    "        X_len = np.size(X, axis=0)\n",
    "        centroids_len = np.size(centroids, axis=0)\n",
    "\n",
    "        # initial clusters\n",
    "        clusters = self.assignCluster(X, centroids)\n",
    "\n",
    "        done = False\n",
    "        while (not done):\n",
    "            # compute new centroids\n",
    "            oldCentroids = np.ndarray.copy(centroids)\n",
    "            for centIdx in range(centroids_len):\n",
    "                centroids[centIdx] = self.computeClusterMean(X[clusters[centIdx]])\n",
    "            \n",
    "            if np.array_equal(centroids, oldCentroids):\n",
    "                done = True\n",
    "            else:\n",
    "                clusters = self.assignCluster(X, centroids)\n",
    "        \n",
    "        self.centroids = centroids\n",
    "        self.clusters = clusters\n",
    "\n",
    "        return self\n",
    "    \n",
    "    def getClusters(self):\n",
    "        return self.clusters\n",
    "    \n",
    "    def getIndexLabel(self, idx):\n",
    "        for cIter in range(len(self.clusters)):\n",
    "            if idx in self.clusters[cIter]:\n",
    "                return cIter\n",
    "        return -1\n",
    "\n",
    "    def getLabels(self):\n",
    "        X_len = np.size(self._X, axis=0)\n",
    "        labels = []\n",
    "\n",
    "        getIndexLabel = lambda i : self.clusters\n",
    "\n",
    "        for i in range(X_len):\n",
    "            labels.append(self.getIndexLabel(i))\n",
    "\n",
    "        return labels\n",
    "\n",
    "\n",
    "kmeans = KMeans(3, random_state=1)\n",
    "clusterer = kmeans.fit(iris_X)\n",
    "\n",
    "print(clusterer.getClusters())\n",
    "print(clusterer.getLabels())\n",
    "\n",
    "    "
   ]
  },
  {
   "cell_type": "code",
   "execution_count": 72,
   "metadata": {},
   "outputs": [
    {
     "name": "stdout",
     "output_type": "stream",
     "text": [
      "0.637137034047264\n"
     ]
    }
   ],
   "source": [
    "from sklearn import metrics\n",
    "from math import factorial\n",
    "#Fowkles-Mallows\n",
    "clusters = clusterer.getClusters()\n",
    "class Evaluation:\n",
    "    def nCr(n, r): \n",
    "        return(factorial(n) / (factorial(r)* factorial(n - r))) \n",
    "\n",
    "    def FMI(labels_true, clusters):\n",
    "        N = len(labels_true)\n",
    "        total_pairs = (N*(N-1))/2\n",
    "        #count positives\n",
    "        count_positives_comb = 0\n",
    "        for i in clusters:\n",
    "            count_positives_comb += (nCr(len(i),2)) \n",
    "        #count TP\n",
    "        count_attributes_in_class = []\n",
    "        k = 0\n",
    "        for i in clusters: #each clusters\n",
    "            count_attributes_in_class.append([])\n",
    "            #foreach labels, check is it the same class or not\n",
    "            for l in set(labels_true):\n",
    "                count_same_class = 0\n",
    "                for attributes in i:\n",
    "                    if(labels_true[attributes]==l):\n",
    "                        count_same_class += 1\n",
    "                count_attributes_in_class[k].append(count_same_class)\n",
    "            k+=1\n",
    "        count_TP = 0\n",
    "        for i in count_attributes_in_class:\n",
    "            for j in i:\n",
    "                if(j>1):\n",
    "                    count_TP += (nCr(j,2)) \n",
    "        #count FP\n",
    "        count_FP = count_positives_comb - count_TP\n",
    "\n",
    "        #count negatives\n",
    "        count_negatives_comb = total_pairs - count_positives_comb\n",
    "\n",
    "        #count FN\n",
    "        count_FN = 0\n",
    "        for clusters in count_attributes_in_class:\n",
    "            for j in range (0,len(clusters)-1):    \n",
    "                miss_attributes = 0\n",
    "                for k in range(j+1,len(clusters)):\n",
    "                    miss_attributes += clusters[k]\n",
    "                count_FN += clusters[j] * miss_attributes\n",
    "        return count_TP**2 / ((count_TP + count_FP)*(count_TP + count_FN))\n",
    "    \n",
    "print(Evaluation.FMI(iris.target,clusters))\n",
    "print(metrics.fowlkes_mallows_score(labl))\n",
    "\n"
   ]
  },
  {
   "cell_type": "code",
   "execution_count": 73,
   "metadata": {},
   "outputs": [
    {
     "data": {
      "text/plain": [
       "0.5511916046195915"
      ]
     },
     "execution_count": 73,
     "metadata": {},
     "output_type": "execute_result"
    }
   ],
   "source": [
    "# Silhouette Coefficient\n",
    "\n",
    "labels = clusterer.getLabels()\n",
    "metrics.silhouette_score(iris_X, labels, metric='euclidean')\n",
    "\n",
    "#ntar tambahin di class evaluation aja"
   ]
  },
  {
   "cell_type": "code",
   "execution_count": null,
   "metadata": {},
   "outputs": [],
   "source": []
  }
 ],
 "metadata": {
  "kernelspec": {
   "display_name": "Python 3",
   "language": "python",
   "name": "python3"
  },
  "language_info": {
   "codemirror_mode": {
    "name": "ipython",
    "version": 3
   },
   "file_extension": ".py",
   "mimetype": "text/x-python",
   "name": "python",
   "nbconvert_exporter": "python",
   "pygments_lexer": "ipython3",
   "version": "3.7.2"
  }
 },
 "nbformat": 4,
 "nbformat_minor": 4
}
